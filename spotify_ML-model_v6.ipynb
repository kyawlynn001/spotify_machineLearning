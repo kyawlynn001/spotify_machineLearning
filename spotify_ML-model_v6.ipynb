{
 "cells": [
  {
   "cell_type": "markdown",
   "metadata": {
    "colab_type": "text",
    "id": "WOw8yMd1VlnD"
   },
   "source": [
    "# Machine Learning Model for Spotify Songs/Tracks Data"
   ]
  },
  {
   "cell_type": "markdown",
   "metadata": {
    "colab_type": "text",
    "id": "rbCQcAAcNNd1"
   },
   "source": [
    "## 1. Read CSV and Perform Data Cleaning"
   ]
  },
  {
   "cell_type": "code",
   "execution_count": 1,
   "metadata": {
    "colab": {},
    "colab_type": "code",
    "id": "wfFEXZC0WS-V"
   },
   "outputs": [],
   "source": [
    "# Dependencies\n",
    "import numpy as np\n",
    "import matplotlib.pyplot as plt\n",
    "import pandas as pd\n",
    "from pandas.plotting import scatter_matrix \n",
    "import seaborn as sns\n",
    "from sklearn.preprocessing import LabelEncoder\n",
    "import pickle\n",
    "import joblib\n",
    "\n",
    "import warnings\n",
    "warnings.simplefilter('ignore', FutureWarning)"
   ]
  },
  {
   "cell_type": "code",
   "execution_count": 2,
   "metadata": {},
   "outputs": [
    {
     "name": "stdout",
     "output_type": "stream",
     "text": [
      "(7000, 17)\n"
     ]
    },
    {
     "data": {
      "text/html": [
       "<div>\n",
       "<style scoped>\n",
       "    .dataframe tbody tr th:only-of-type {\n",
       "        vertical-align: middle;\n",
       "    }\n",
       "\n",
       "    .dataframe tbody tr th {\n",
       "        vertical-align: top;\n",
       "    }\n",
       "\n",
       "    .dataframe thead th {\n",
       "        text-align: right;\n",
       "    }\n",
       "</style>\n",
       "<table border=\"1\" class=\"dataframe\">\n",
       "  <thead>\n",
       "    <tr style=\"text-align: right;\">\n",
       "      <th></th>\n",
       "      <th>artist_name</th>\n",
       "      <th>track_name</th>\n",
       "      <th>popularity</th>\n",
       "      <th>track_id</th>\n",
       "      <th>track_uri</th>\n",
       "      <th>danceability</th>\n",
       "      <th>energy</th>\n",
       "      <th>loudness</th>\n",
       "      <th>speechiness</th>\n",
       "      <th>acousticness</th>\n",
       "      <th>instrumentalness</th>\n",
       "      <th>liveness</th>\n",
       "      <th>valence</th>\n",
       "      <th>tempo</th>\n",
       "      <th>duration</th>\n",
       "      <th>genre</th>\n",
       "      <th>genre_label</th>\n",
       "    </tr>\n",
       "  </thead>\n",
       "  <tbody>\n",
       "    <tr>\n",
       "      <td>0</td>\n",
       "      <td>The Weeknd</td>\n",
       "      <td>Blinding Lights</td>\n",
       "      <td>100</td>\n",
       "      <td>0VjIjW4GlUZAMYd2vXMi3b</td>\n",
       "      <td>spotify:track:0VjIjW4GlUZAMYd2vXMi3b</td>\n",
       "      <td>0.514</td>\n",
       "      <td>0.7300</td>\n",
       "      <td>-5.934</td>\n",
       "      <td>0.0598</td>\n",
       "      <td>0.00146</td>\n",
       "      <td>0.000095</td>\n",
       "      <td>0.0897</td>\n",
       "      <td>0.33400</td>\n",
       "      <td>171.005</td>\n",
       "      <td>200040</td>\n",
       "      <td>pop</td>\n",
       "      <td>5</td>\n",
       "    </tr>\n",
       "    <tr>\n",
       "      <td>1</td>\n",
       "      <td>Dua Lipa</td>\n",
       "      <td>Don't Start Now</td>\n",
       "      <td>97</td>\n",
       "      <td>6WrI0LAC5M1Rw2MnX2ZvEg</td>\n",
       "      <td>spotify:track:6WrI0LAC5M1Rw2MnX2ZvEg</td>\n",
       "      <td>0.794</td>\n",
       "      <td>0.7930</td>\n",
       "      <td>-4.521</td>\n",
       "      <td>0.0842</td>\n",
       "      <td>0.01250</td>\n",
       "      <td>0.000000</td>\n",
       "      <td>0.0952</td>\n",
       "      <td>0.67700</td>\n",
       "      <td>123.941</td>\n",
       "      <td>183290</td>\n",
       "      <td>pop</td>\n",
       "      <td>5</td>\n",
       "    </tr>\n",
       "    <tr>\n",
       "      <td>2</td>\n",
       "      <td>Doja Cat</td>\n",
       "      <td>Say So</td>\n",
       "      <td>97</td>\n",
       "      <td>3Dv1eDb0MEgF93GpLXlucZ</td>\n",
       "      <td>spotify:track:3Dv1eDb0MEgF93GpLXlucZ</td>\n",
       "      <td>0.787</td>\n",
       "      <td>0.6730</td>\n",
       "      <td>-4.577</td>\n",
       "      <td>0.1580</td>\n",
       "      <td>0.25600</td>\n",
       "      <td>0.000004</td>\n",
       "      <td>0.0904</td>\n",
       "      <td>0.78600</td>\n",
       "      <td>110.962</td>\n",
       "      <td>237893</td>\n",
       "      <td>pop</td>\n",
       "      <td>5</td>\n",
       "    </tr>\n",
       "    <tr>\n",
       "      <td>3</td>\n",
       "      <td>Arizona Zervas</td>\n",
       "      <td>ROXANNE</td>\n",
       "      <td>95</td>\n",
       "      <td>696DnlkuDOXcMAnKlTgXXK</td>\n",
       "      <td>spotify:track:696DnlkuDOXcMAnKlTgXXK</td>\n",
       "      <td>0.621</td>\n",
       "      <td>0.6010</td>\n",
       "      <td>-5.616</td>\n",
       "      <td>0.1480</td>\n",
       "      <td>0.05220</td>\n",
       "      <td>0.000000</td>\n",
       "      <td>0.4600</td>\n",
       "      <td>0.45700</td>\n",
       "      <td>116.735</td>\n",
       "      <td>163636</td>\n",
       "      <td>pop</td>\n",
       "      <td>5</td>\n",
       "    </tr>\n",
       "    <tr>\n",
       "      <td>4</td>\n",
       "      <td>BENEE</td>\n",
       "      <td>Supalonely</td>\n",
       "      <td>95</td>\n",
       "      <td>4nK5YrxbMGZstTLbvj6Gxw</td>\n",
       "      <td>spotify:track:4nK5YrxbMGZstTLbvj6Gxw</td>\n",
       "      <td>0.863</td>\n",
       "      <td>0.6310</td>\n",
       "      <td>-4.689</td>\n",
       "      <td>0.0534</td>\n",
       "      <td>0.30500</td>\n",
       "      <td>0.000030</td>\n",
       "      <td>0.1230</td>\n",
       "      <td>0.81700</td>\n",
       "      <td>128.977</td>\n",
       "      <td>223480</td>\n",
       "      <td>pop</td>\n",
       "      <td>5</td>\n",
       "    </tr>\n",
       "    <tr>\n",
       "      <td>...</td>\n",
       "      <td>...</td>\n",
       "      <td>...</td>\n",
       "      <td>...</td>\n",
       "      <td>...</td>\n",
       "      <td>...</td>\n",
       "      <td>...</td>\n",
       "      <td>...</td>\n",
       "      <td>...</td>\n",
       "      <td>...</td>\n",
       "      <td>...</td>\n",
       "      <td>...</td>\n",
       "      <td>...</td>\n",
       "      <td>...</td>\n",
       "      <td>...</td>\n",
       "      <td>...</td>\n",
       "      <td>...</td>\n",
       "      <td>...</td>\n",
       "    </tr>\n",
       "    <tr>\n",
       "      <td>995</td>\n",
       "      <td>Sleep Crickets</td>\n",
       "      <td>Crickets with moving Binaural Sounds</td>\n",
       "      <td>37</td>\n",
       "      <td>6J6YO4ImbnY7PX0oKgCXe9</td>\n",
       "      <td>spotify:track:6J6YO4ImbnY7PX0oKgCXe9</td>\n",
       "      <td>0.201</td>\n",
       "      <td>0.4620</td>\n",
       "      <td>-21.545</td>\n",
       "      <td>0.0483</td>\n",
       "      <td>0.43100</td>\n",
       "      <td>0.960000</td>\n",
       "      <td>0.0684</td>\n",
       "      <td>0.03900</td>\n",
       "      <td>70.691</td>\n",
       "      <td>165102</td>\n",
       "      <td>asmr</td>\n",
       "      <td>0</td>\n",
       "    </tr>\n",
       "    <tr>\n",
       "      <td>996</td>\n",
       "      <td>ASMR Zeitgeist</td>\n",
       "      <td>Paper Cup Tapping</td>\n",
       "      <td>42</td>\n",
       "      <td>38oZKmHWPcJr5WMkXfiXnW</td>\n",
       "      <td>spotify:track:38oZKmHWPcJr5WMkXfiXnW</td>\n",
       "      <td>0.404</td>\n",
       "      <td>0.0566</td>\n",
       "      <td>-40.654</td>\n",
       "      <td>0.0450</td>\n",
       "      <td>0.39800</td>\n",
       "      <td>0.945000</td>\n",
       "      <td>0.1070</td>\n",
       "      <td>0.27900</td>\n",
       "      <td>90.171</td>\n",
       "      <td>212080</td>\n",
       "      <td>asmr</td>\n",
       "      <td>0</td>\n",
       "    </tr>\n",
       "    <tr>\n",
       "      <td>997</td>\n",
       "      <td>ASMR Anonymous</td>\n",
       "      <td>Paper Ripping</td>\n",
       "      <td>42</td>\n",
       "      <td>1zz0xpPwbIM6SOl57r8Azl</td>\n",
       "      <td>spotify:track:1zz0xpPwbIM6SOl57r8Azl</td>\n",
       "      <td>0.489</td>\n",
       "      <td>0.3330</td>\n",
       "      <td>-45.392</td>\n",
       "      <td>0.0313</td>\n",
       "      <td>0.30600</td>\n",
       "      <td>0.764000</td>\n",
       "      <td>0.5770</td>\n",
       "      <td>0.00422</td>\n",
       "      <td>95.673</td>\n",
       "      <td>125589</td>\n",
       "      <td>asmr</td>\n",
       "      <td>0</td>\n",
       "    </tr>\n",
       "    <tr>\n",
       "      <td>998</td>\n",
       "      <td>Track Circuit</td>\n",
       "      <td>Brown Noise Train</td>\n",
       "      <td>37</td>\n",
       "      <td>0gF7MgxBQJIx042PGbrWFr</td>\n",
       "      <td>spotify:track:0gF7MgxBQJIx042PGbrWFr</td>\n",
       "      <td>0.151</td>\n",
       "      <td>0.1490</td>\n",
       "      <td>-46.655</td>\n",
       "      <td>0.0693</td>\n",
       "      <td>0.96100</td>\n",
       "      <td>0.970000</td>\n",
       "      <td>0.1000</td>\n",
       "      <td>0.03540</td>\n",
       "      <td>135.819</td>\n",
       "      <td>219880</td>\n",
       "      <td>asmr</td>\n",
       "      <td>0</td>\n",
       "    </tr>\n",
       "    <tr>\n",
       "      <td>999</td>\n",
       "      <td>ASMR For Sleep</td>\n",
       "      <td>Asmr: The Great Ocean</td>\n",
       "      <td>34</td>\n",
       "      <td>0cpXOiltt3LGA4UryB3TPo</td>\n",
       "      <td>spotify:track:0cpXOiltt3LGA4UryB3TPo</td>\n",
       "      <td>0.101</td>\n",
       "      <td>0.6640</td>\n",
       "      <td>-24.066</td>\n",
       "      <td>0.0566</td>\n",
       "      <td>0.74200</td>\n",
       "      <td>0.755000</td>\n",
       "      <td>0.1080</td>\n",
       "      <td>0.01410</td>\n",
       "      <td>77.084</td>\n",
       "      <td>109970</td>\n",
       "      <td>asmr</td>\n",
       "      <td>0</td>\n",
       "    </tr>\n",
       "  </tbody>\n",
       "</table>\n",
       "<p>7000 rows × 17 columns</p>\n",
       "</div>"
      ],
      "text/plain": [
       "        artist_name                            track_name  popularity  \\\n",
       "0        The Weeknd                       Blinding Lights         100   \n",
       "1          Dua Lipa                       Don't Start Now          97   \n",
       "2          Doja Cat                                Say So          97   \n",
       "3    Arizona Zervas                               ROXANNE          95   \n",
       "4             BENEE                            Supalonely          95   \n",
       "..              ...                                   ...         ...   \n",
       "995  Sleep Crickets  Crickets with moving Binaural Sounds          37   \n",
       "996  ASMR Zeitgeist                     Paper Cup Tapping          42   \n",
       "997  ASMR Anonymous                         Paper Ripping          42   \n",
       "998   Track Circuit                     Brown Noise Train          37   \n",
       "999  ASMR For Sleep                 Asmr: The Great Ocean          34   \n",
       "\n",
       "                   track_id                             track_uri  \\\n",
       "0    0VjIjW4GlUZAMYd2vXMi3b  spotify:track:0VjIjW4GlUZAMYd2vXMi3b   \n",
       "1    6WrI0LAC5M1Rw2MnX2ZvEg  spotify:track:6WrI0LAC5M1Rw2MnX2ZvEg   \n",
       "2    3Dv1eDb0MEgF93GpLXlucZ  spotify:track:3Dv1eDb0MEgF93GpLXlucZ   \n",
       "3    696DnlkuDOXcMAnKlTgXXK  spotify:track:696DnlkuDOXcMAnKlTgXXK   \n",
       "4    4nK5YrxbMGZstTLbvj6Gxw  spotify:track:4nK5YrxbMGZstTLbvj6Gxw   \n",
       "..                      ...                                   ...   \n",
       "995  6J6YO4ImbnY7PX0oKgCXe9  spotify:track:6J6YO4ImbnY7PX0oKgCXe9   \n",
       "996  38oZKmHWPcJr5WMkXfiXnW  spotify:track:38oZKmHWPcJr5WMkXfiXnW   \n",
       "997  1zz0xpPwbIM6SOl57r8Azl  spotify:track:1zz0xpPwbIM6SOl57r8Azl   \n",
       "998  0gF7MgxBQJIx042PGbrWFr  spotify:track:0gF7MgxBQJIx042PGbrWFr   \n",
       "999  0cpXOiltt3LGA4UryB3TPo  spotify:track:0cpXOiltt3LGA4UryB3TPo   \n",
       "\n",
       "     danceability  energy  loudness  speechiness  acousticness  \\\n",
       "0           0.514  0.7300    -5.934       0.0598       0.00146   \n",
       "1           0.794  0.7930    -4.521       0.0842       0.01250   \n",
       "2           0.787  0.6730    -4.577       0.1580       0.25600   \n",
       "3           0.621  0.6010    -5.616       0.1480       0.05220   \n",
       "4           0.863  0.6310    -4.689       0.0534       0.30500   \n",
       "..            ...     ...       ...          ...           ...   \n",
       "995         0.201  0.4620   -21.545       0.0483       0.43100   \n",
       "996         0.404  0.0566   -40.654       0.0450       0.39800   \n",
       "997         0.489  0.3330   -45.392       0.0313       0.30600   \n",
       "998         0.151  0.1490   -46.655       0.0693       0.96100   \n",
       "999         0.101  0.6640   -24.066       0.0566       0.74200   \n",
       "\n",
       "     instrumentalness  liveness  valence    tempo  duration genre  genre_label  \n",
       "0            0.000095    0.0897  0.33400  171.005    200040   pop            5  \n",
       "1            0.000000    0.0952  0.67700  123.941    183290   pop            5  \n",
       "2            0.000004    0.0904  0.78600  110.962    237893   pop            5  \n",
       "3            0.000000    0.4600  0.45700  116.735    163636   pop            5  \n",
       "4            0.000030    0.1230  0.81700  128.977    223480   pop            5  \n",
       "..                ...       ...      ...      ...       ...   ...          ...  \n",
       "995          0.960000    0.0684  0.03900   70.691    165102  asmr            0  \n",
       "996          0.945000    0.1070  0.27900   90.171    212080  asmr            0  \n",
       "997          0.764000    0.5770  0.00422   95.673    125589  asmr            0  \n",
       "998          0.970000    0.1000  0.03540  135.819    219880  asmr            0  \n",
       "999          0.755000    0.1080  0.01410   77.084    109970  asmr            0  \n",
       "\n",
       "[7000 rows x 17 columns]"
      ]
     },
     "execution_count": 2,
     "metadata": {},
     "output_type": "execute_result"
    }
   ],
   "source": [
    "# Read and consolidate all spotify data from all genres\n",
    "pop_df = pd.read_csv(\"spotify_data_pop_v2.csv\")\n",
    "hiphop_df = pd.read_csv(\"spotify_data_hiphop_v2.csv\")\n",
    "jazz_df = pd.read_csv(\"spotify_data_jazz_v2.csv\")\n",
    "rock_df = pd.read_csv(\"spotify_data_rock_v2.csv\")\n",
    "kpop_df = pd.read_csv(\"spotify_data_kpop_v2.csv\")\n",
    "instrumental_df = pd.read_csv(\"spotify_data_instrumental_v2.csv\")\n",
    "asmr_df = pd.read_csv(\"spotify_data_asmr_v2.csv\")\n",
    "\n",
    "# Make all csv consistent with all same columns and lower case genre values\n",
    "# jazz_df['genre'] = 'jazz'\n",
    "# rock_df['genre'] = 'rock'\n",
    "# kpop_df['genre'] = 'kpop'\n",
    "# hiphop_df = hiphop_df.replace(to_replace=\"HipHop\", value=\"hiphop\")\n",
    "\n",
    "# We use concat() function to consolidate all csv files\n",
    "all_genres_csv = [pop_df, hiphop_df, jazz_df, rock_df, kpop_df, instrumental_df, asmr_df]\n",
    "spotify_df = pd.concat(all_genres_csv)\n",
    "\n",
    "# Create a genre label-encode column, so genre will be numerical\n",
    "label_encoder = LabelEncoder()\n",
    "label_encoder.fit(spotify_df[\"genre\"])\n",
    "encoded_genre = label_encoder.transform(spotify_df[\"genre\"])\n",
    "spotify_df['genre_label'] = encoded_genre\n",
    "\n",
    "print(spotify_df.shape)\n",
    "spotify_df"
   ]
  },
  {
   "cell_type": "code",
   "execution_count": 3,
   "metadata": {},
   "outputs": [
    {
     "data": {
      "text/html": [
       "<div>\n",
       "<style scoped>\n",
       "    .dataframe tbody tr th:only-of-type {\n",
       "        vertical-align: middle;\n",
       "    }\n",
       "\n",
       "    .dataframe tbody tr th {\n",
       "        vertical-align: top;\n",
       "    }\n",
       "\n",
       "    .dataframe thead th {\n",
       "        text-align: right;\n",
       "    }\n",
       "</style>\n",
       "<table border=\"1\" class=\"dataframe\">\n",
       "  <thead>\n",
       "    <tr style=\"text-align: right;\">\n",
       "      <th></th>\n",
       "      <th>genre_label</th>\n",
       "    </tr>\n",
       "    <tr>\n",
       "      <th>genre</th>\n",
       "      <th></th>\n",
       "    </tr>\n",
       "  </thead>\n",
       "  <tbody>\n",
       "    <tr>\n",
       "      <td>asmr</td>\n",
       "      <td>0</td>\n",
       "    </tr>\n",
       "    <tr>\n",
       "      <td>hiphop</td>\n",
       "      <td>1</td>\n",
       "    </tr>\n",
       "    <tr>\n",
       "      <td>instrumental</td>\n",
       "      <td>2</td>\n",
       "    </tr>\n",
       "    <tr>\n",
       "      <td>jazz</td>\n",
       "      <td>3</td>\n",
       "    </tr>\n",
       "    <tr>\n",
       "      <td>kpop</td>\n",
       "      <td>4</td>\n",
       "    </tr>\n",
       "    <tr>\n",
       "      <td>pop</td>\n",
       "      <td>5</td>\n",
       "    </tr>\n",
       "    <tr>\n",
       "      <td>rock</td>\n",
       "      <td>6</td>\n",
       "    </tr>\n",
       "  </tbody>\n",
       "</table>\n",
       "</div>"
      ],
      "text/plain": [
       "              genre_label\n",
       "genre                    \n",
       "asmr                    0\n",
       "hiphop                  1\n",
       "instrumental            2\n",
       "jazz                    3\n",
       "kpop                    4\n",
       "pop                     5\n",
       "rock                    6"
      ]
     },
     "execution_count": 3,
     "metadata": {},
     "output_type": "execute_result"
    }
   ],
   "source": [
    "genre_label_check = pd.pivot_table(spotify_df, values=\"genre_label\", index=\"genre\")\n",
    "genre_label_check"
   ]
  },
  {
   "cell_type": "code",
   "execution_count": 4,
   "metadata": {
    "colab": {
     "base_uri": "https://localhost:8080/",
     "height": 255
    },
    "colab_type": "code",
    "executionInfo": {
     "elapsed": 2242,
     "status": "ok",
     "timestamp": 1588448031392,
     "user": {
      "displayName": "Kyaw Lynn",
      "photoUrl": "",
      "userId": "00058917132249787348"
     },
     "user_tz": 420
    },
    "id": "aXjBGS7cbmJW",
    "outputId": "970dbc29-cade-439d-a390-6a65c0ae036a"
   },
   "outputs": [],
   "source": [
    "# Export the consolidated DataFrame to csv\n",
    "spotify_df.to_csv(\"spotify_data_v4.csv\", encoding=\"utf-8\", index=False)"
   ]
  },
  {
   "cell_type": "code",
   "execution_count": 5,
   "metadata": {},
   "outputs": [
    {
     "data": {
      "text/html": [
       "<div>\n",
       "<style scoped>\n",
       "    .dataframe tbody tr th:only-of-type {\n",
       "        vertical-align: middle;\n",
       "    }\n",
       "\n",
       "    .dataframe tbody tr th {\n",
       "        vertical-align: top;\n",
       "    }\n",
       "\n",
       "    .dataframe thead th {\n",
       "        text-align: right;\n",
       "    }\n",
       "</style>\n",
       "<table border=\"1\" class=\"dataframe\">\n",
       "  <thead>\n",
       "    <tr style=\"text-align: right;\">\n",
       "      <th></th>\n",
       "      <th>genre</th>\n",
       "      <th>genre_label</th>\n",
       "      <th>loudness</th>\n",
       "      <th>energy</th>\n",
       "      <th>danceability</th>\n",
       "      <th>instrumentalness</th>\n",
       "    </tr>\n",
       "  </thead>\n",
       "  <tbody>\n",
       "    <tr>\n",
       "      <td>0</td>\n",
       "      <td>pop</td>\n",
       "      <td>5</td>\n",
       "      <td>-5.934</td>\n",
       "      <td>0.730</td>\n",
       "      <td>0.514</td>\n",
       "      <td>0.000095</td>\n",
       "    </tr>\n",
       "    <tr>\n",
       "      <td>1</td>\n",
       "      <td>pop</td>\n",
       "      <td>5</td>\n",
       "      <td>-4.521</td>\n",
       "      <td>0.793</td>\n",
       "      <td>0.794</td>\n",
       "      <td>0.000000</td>\n",
       "    </tr>\n",
       "    <tr>\n",
       "      <td>2</td>\n",
       "      <td>pop</td>\n",
       "      <td>5</td>\n",
       "      <td>-4.577</td>\n",
       "      <td>0.673</td>\n",
       "      <td>0.787</td>\n",
       "      <td>0.000004</td>\n",
       "    </tr>\n",
       "    <tr>\n",
       "      <td>3</td>\n",
       "      <td>pop</td>\n",
       "      <td>5</td>\n",
       "      <td>-5.616</td>\n",
       "      <td>0.601</td>\n",
       "      <td>0.621</td>\n",
       "      <td>0.000000</td>\n",
       "    </tr>\n",
       "    <tr>\n",
       "      <td>4</td>\n",
       "      <td>pop</td>\n",
       "      <td>5</td>\n",
       "      <td>-4.689</td>\n",
       "      <td>0.631</td>\n",
       "      <td>0.863</td>\n",
       "      <td>0.000030</td>\n",
       "    </tr>\n",
       "  </tbody>\n",
       "</table>\n",
       "</div>"
      ],
      "text/plain": [
       "  genre  genre_label  loudness  energy  danceability  instrumentalness\n",
       "0   pop            5    -5.934   0.730         0.514          0.000095\n",
       "1   pop            5    -4.521   0.793         0.794          0.000000\n",
       "2   pop            5    -4.577   0.673         0.787          0.000004\n",
       "3   pop            5    -5.616   0.601         0.621          0.000000\n",
       "4   pop            5    -4.689   0.631         0.863          0.000030"
      ]
     },
     "execution_count": 5,
     "metadata": {},
     "output_type": "execute_result"
    }
   ],
   "source": [
    "# Extract the necessary columns we need for machine learning model\n",
    "\n",
    "# spotify_df_clean = spotify_df[[\n",
    "#     'genre', 'genre_label', 'danceability', 'energy', 'acousticness',  \n",
    "#     'instrumentalness', 'valence', 'speechiness', 'loudness','tempo'\n",
    "# ]]\n",
    "# spotify_df_clean.head()\n",
    "\n",
    "spotify_df_clean = spotify_df[[\n",
    "    'genre', 'genre_label', 'loudness', 'energy', \n",
    "    'danceability', 'instrumentalness'\n",
    "]]\n",
    "spotify_df_clean.head()"
   ]
  },
  {
   "cell_type": "markdown",
   "metadata": {},
   "source": [
    "## 2. Statistical Summary"
   ]
  },
  {
   "cell_type": "code",
   "execution_count": 6,
   "metadata": {
    "colab": {
     "base_uri": "https://localhost:8080/",
     "height": 297
    },
    "colab_type": "code",
    "executionInfo": {
     "elapsed": 926,
     "status": "ok",
     "timestamp": 1588448271166,
     "user": {
      "displayName": "Kyaw Lynn",
      "photoUrl": "",
      "userId": "00058917132249787348"
     },
     "user_tz": 420
    },
    "id": "7lGmSYUGdeJf",
    "outputId": "2e076155-24e2-4d70-d8af-d4ff1581deba"
   },
   "outputs": [
    {
     "data": {
      "text/html": [
       "<div>\n",
       "<style scoped>\n",
       "    .dataframe tbody tr th:only-of-type {\n",
       "        vertical-align: middle;\n",
       "    }\n",
       "\n",
       "    .dataframe tbody tr th {\n",
       "        vertical-align: top;\n",
       "    }\n",
       "\n",
       "    .dataframe thead th {\n",
       "        text-align: right;\n",
       "    }\n",
       "</style>\n",
       "<table border=\"1\" class=\"dataframe\">\n",
       "  <thead>\n",
       "    <tr style=\"text-align: right;\">\n",
       "      <th></th>\n",
       "      <th>genre_label</th>\n",
       "      <th>loudness</th>\n",
       "      <th>energy</th>\n",
       "      <th>danceability</th>\n",
       "      <th>instrumentalness</th>\n",
       "    </tr>\n",
       "  </thead>\n",
       "  <tbody>\n",
       "    <tr>\n",
       "      <td>count</td>\n",
       "      <td>7000.000000</td>\n",
       "      <td>7000.000000</td>\n",
       "      <td>7000.000000</td>\n",
       "      <td>7000.000000</td>\n",
       "      <td>7000.000000</td>\n",
       "    </tr>\n",
       "    <tr>\n",
       "      <td>mean</td>\n",
       "      <td>3.000000</td>\n",
       "      <td>-13.600165</td>\n",
       "      <td>0.451397</td>\n",
       "      <td>0.548091</td>\n",
       "      <td>0.239502</td>\n",
       "    </tr>\n",
       "    <tr>\n",
       "      <td>std</td>\n",
       "      <td>2.000143</td>\n",
       "      <td>10.733728</td>\n",
       "      <td>0.307148</td>\n",
       "      <td>0.220264</td>\n",
       "      <td>0.388004</td>\n",
       "    </tr>\n",
       "    <tr>\n",
       "      <td>min</td>\n",
       "      <td>0.000000</td>\n",
       "      <td>-50.618000</td>\n",
       "      <td>0.002680</td>\n",
       "      <td>0.073300</td>\n",
       "      <td>0.000000</td>\n",
       "    </tr>\n",
       "    <tr>\n",
       "      <td>25%</td>\n",
       "      <td>1.000000</td>\n",
       "      <td>-22.059000</td>\n",
       "      <td>0.119000</td>\n",
       "      <td>0.399000</td>\n",
       "      <td>0.000000</td>\n",
       "    </tr>\n",
       "    <tr>\n",
       "      <td>50%</td>\n",
       "      <td>3.000000</td>\n",
       "      <td>-8.624000</td>\n",
       "      <td>0.508000</td>\n",
       "      <td>0.570000</td>\n",
       "      <td>0.000051</td>\n",
       "    </tr>\n",
       "    <tr>\n",
       "      <td>75%</td>\n",
       "      <td>5.000000</td>\n",
       "      <td>-5.371000</td>\n",
       "      <td>0.708000</td>\n",
       "      <td>0.723000</td>\n",
       "      <td>0.637000</td>\n",
       "    </tr>\n",
       "    <tr>\n",
       "      <td>max</td>\n",
       "      <td>6.000000</td>\n",
       "      <td>-1.339000</td>\n",
       "      <td>0.998000</td>\n",
       "      <td>0.970000</td>\n",
       "      <td>0.997000</td>\n",
       "    </tr>\n",
       "  </tbody>\n",
       "</table>\n",
       "</div>"
      ],
      "text/plain": [
       "       genre_label     loudness       energy  danceability  instrumentalness\n",
       "count  7000.000000  7000.000000  7000.000000   7000.000000       7000.000000\n",
       "mean      3.000000   -13.600165     0.451397      0.548091          0.239502\n",
       "std       2.000143    10.733728     0.307148      0.220264          0.388004\n",
       "min       0.000000   -50.618000     0.002680      0.073300          0.000000\n",
       "25%       1.000000   -22.059000     0.119000      0.399000          0.000000\n",
       "50%       3.000000    -8.624000     0.508000      0.570000          0.000051\n",
       "75%       5.000000    -5.371000     0.708000      0.723000          0.637000\n",
       "max       6.000000    -1.339000     0.998000      0.970000          0.997000"
      ]
     },
     "execution_count": 6,
     "metadata": {},
     "output_type": "execute_result"
    }
   ],
   "source": [
    "spotify_df_clean.describe()"
   ]
  },
  {
   "cell_type": "code",
   "execution_count": 7,
   "metadata": {
    "colab": {
     "base_uri": "https://localhost:8080/",
     "height": 313
    },
    "colab_type": "code",
    "executionInfo": {
     "elapsed": 3023,
     "status": "ok",
     "timestamp": 1588449358879,
     "user": {
      "displayName": "Kyaw Lynn",
      "photoUrl": "",
      "userId": "00058917132249787348"
     },
     "user_tz": 420
    },
    "id": "5J4XpY1X7gDG",
    "outputId": "7180cd12-eebd-42bc-dd22-ccfc63abad34"
   },
   "outputs": [
    {
     "data": {
      "image/png": "[encoded data removed]",
      "text/plain": [
       "<Figure size 432x288 with 1 Axes>"
      ]
     },
     "metadata": {
      "needs_background": "light"
     },
     "output_type": "display_data"
    }
   ],
   "source": [
    "# Plot the data count of genres, it should be all the same numbers of songs for each genres\n",
    "sns.countplot(spotify_df_clean[\"genre\"], label =\" Count\")\n",
    "plt.show()"
   ]
  },
  {
   "cell_type": "code",
   "execution_count": 8,
   "metadata": {},
   "outputs": [
    {
     "data": {
      "image/png": "[encoded data removed]",
      "text/plain": [
       "<Figure size 1440x1080 with 16 Axes>"
      ]
     },
     "metadata": {
      "needs_background": "light"
     },
     "output_type": "display_data"
    }
   ],
   "source": [
    "# Use pandas scatter_matrix to see the correlation of each features\n",
    "scatter_matrix(spotify_df_clean.drop([\"genre\", \"genre_label\"], axis=1), figsize=(20,15))\n",
    "plt.show()"
   ]
  },
  {
   "cell_type": "markdown",
   "metadata": {
    "colab": {},
    "colab_type": "code",
    "id": "NNpMVdl5BSpf"
   },
   "source": [
    "## 3. Create Train Test Split and Scale Data"
   ]
  },
  {
   "cell_type": "code",
   "execution_count": 9,
   "metadata": {},
   "outputs": [
    {
     "name": "stdout",
     "output_type": "stream",
     "text": [
      "(7000, 4) (7000,)\n"
     ]
    },
    {
     "data": {
      "text/html": [
       "<div>\n",
       "<style scoped>\n",
       "    .dataframe tbody tr th:only-of-type {\n",
       "        vertical-align: middle;\n",
       "    }\n",
       "\n",
       "    .dataframe tbody tr th {\n",
       "        vertical-align: top;\n",
       "    }\n",
       "\n",
       "    .dataframe thead th {\n",
       "        text-align: right;\n",
       "    }\n",
       "</style>\n",
       "<table border=\"1\" class=\"dataframe\">\n",
       "  <thead>\n",
       "    <tr style=\"text-align: right;\">\n",
       "      <th></th>\n",
       "      <th>loudness</th>\n",
       "      <th>energy</th>\n",
       "      <th>danceability</th>\n",
       "      <th>instrumentalness</th>\n",
       "    </tr>\n",
       "  </thead>\n",
       "  <tbody>\n",
       "    <tr>\n",
       "      <td>0</td>\n",
       "      <td>-5.934</td>\n",
       "      <td>0.7300</td>\n",
       "      <td>0.514</td>\n",
       "      <td>0.000095</td>\n",
       "    </tr>\n",
       "    <tr>\n",
       "      <td>1</td>\n",
       "      <td>-4.521</td>\n",
       "      <td>0.7930</td>\n",
       "      <td>0.794</td>\n",
       "      <td>0.000000</td>\n",
       "    </tr>\n",
       "    <tr>\n",
       "      <td>2</td>\n",
       "      <td>-4.577</td>\n",
       "      <td>0.6730</td>\n",
       "      <td>0.787</td>\n",
       "      <td>0.000004</td>\n",
       "    </tr>\n",
       "    <tr>\n",
       "      <td>3</td>\n",
       "      <td>-5.616</td>\n",
       "      <td>0.6010</td>\n",
       "      <td>0.621</td>\n",
       "      <td>0.000000</td>\n",
       "    </tr>\n",
       "    <tr>\n",
       "      <td>4</td>\n",
       "      <td>-4.689</td>\n",
       "      <td>0.6310</td>\n",
       "      <td>0.863</td>\n",
       "      <td>0.000030</td>\n",
       "    </tr>\n",
       "    <tr>\n",
       "      <td>...</td>\n",
       "      <td>...</td>\n",
       "      <td>...</td>\n",
       "      <td>...</td>\n",
       "      <td>...</td>\n",
       "    </tr>\n",
       "    <tr>\n",
       "      <td>995</td>\n",
       "      <td>-21.545</td>\n",
       "      <td>0.4620</td>\n",
       "      <td>0.201</td>\n",
       "      <td>0.960000</td>\n",
       "    </tr>\n",
       "    <tr>\n",
       "      <td>996</td>\n",
       "      <td>-40.654</td>\n",
       "      <td>0.0566</td>\n",
       "      <td>0.404</td>\n",
       "      <td>0.945000</td>\n",
       "    </tr>\n",
       "    <tr>\n",
       "      <td>997</td>\n",
       "      <td>-45.392</td>\n",
       "      <td>0.3330</td>\n",
       "      <td>0.489</td>\n",
       "      <td>0.764000</td>\n",
       "    </tr>\n",
       "    <tr>\n",
       "      <td>998</td>\n",
       "      <td>-46.655</td>\n",
       "      <td>0.1490</td>\n",
       "      <td>0.151</td>\n",
       "      <td>0.970000</td>\n",
       "    </tr>\n",
       "    <tr>\n",
       "      <td>999</td>\n",
       "      <td>-24.066</td>\n",
       "      <td>0.6640</td>\n",
       "      <td>0.101</td>\n",
       "      <td>0.755000</td>\n",
       "    </tr>\n",
       "  </tbody>\n",
       "</table>\n",
       "<p>7000 rows × 4 columns</p>\n",
       "</div>"
      ],
      "text/plain": [
       "     loudness  energy  danceability  instrumentalness\n",
       "0      -5.934  0.7300         0.514          0.000095\n",
       "1      -4.521  0.7930         0.794          0.000000\n",
       "2      -4.577  0.6730         0.787          0.000004\n",
       "3      -5.616  0.6010         0.621          0.000000\n",
       "4      -4.689  0.6310         0.863          0.000030\n",
       "..        ...     ...           ...               ...\n",
       "995   -21.545  0.4620         0.201          0.960000\n",
       "996   -40.654  0.0566         0.404          0.945000\n",
       "997   -45.392  0.3330         0.489          0.764000\n",
       "998   -46.655  0.1490         0.151          0.970000\n",
       "999   -24.066  0.6640         0.101          0.755000\n",
       "\n",
       "[7000 rows x 4 columns]"
      ]
     },
     "execution_count": 9,
     "metadata": {},
     "output_type": "execute_result"
    }
   ],
   "source": [
    "# Assign X (data) and y (target)\n",
    "X = spotify_df_clean.drop([\"genre\", \"genre_label\"], axis=1)\n",
    "y = spotify_df_clean[\"genre_label\"]\n",
    "print(X.shape, y.shape)\n",
    "X"
   ]
  },
  {
   "cell_type": "code",
   "execution_count": 10,
   "metadata": {},
   "outputs": [
    {
     "data": {
      "text/plain": [
       "0      5\n",
       "1      5\n",
       "2      5\n",
       "3      5\n",
       "4      5\n",
       "      ..\n",
       "995    0\n",
       "996    0\n",
       "997    0\n",
       "998    0\n",
       "999    0\n",
       "Name: genre_label, Length: 7000, dtype: int64"
      ]
     },
     "execution_count": 10,
     "metadata": {},
     "output_type": "execute_result"
    }
   ],
   "source": [
    "y"
   ]
  },
  {
   "cell_type": "code",
   "execution_count": 11,
   "metadata": {},
   "outputs": [],
   "source": [
    "# Create train and test sets\n",
    "from sklearn.model_selection import train_test_split\n",
    "\n",
    "X_train, X_test, y_train, y_test = train_test_split(X, y, test_size=0.3, random_state=0)"
   ]
  },
  {
   "cell_type": "code",
   "execution_count": 29,
   "metadata": {},
   "outputs": [
    {
     "data": {
      "text/html": [
       "<div>\n",
       "<style scoped>\n",
       "    .dataframe tbody tr th:only-of-type {\n",
       "        vertical-align: middle;\n",
       "    }\n",
       "\n",
       "    .dataframe tbody tr th {\n",
       "        vertical-align: top;\n",
       "    }\n",
       "\n",
       "    .dataframe thead th {\n",
       "        text-align: right;\n",
       "    }\n",
       "</style>\n",
       "<table border=\"1\" class=\"dataframe\">\n",
       "  <thead>\n",
       "    <tr style=\"text-align: right;\">\n",
       "      <th></th>\n",
       "      <th>loudness</th>\n",
       "      <th>energy</th>\n",
       "      <th>danceability</th>\n",
       "      <th>instrumentalness</th>\n",
       "    </tr>\n",
       "  </thead>\n",
       "  <tbody>\n",
       "    <tr>\n",
       "      <td>590</td>\n",
       "      <td>-40.685</td>\n",
       "      <td>0.0137</td>\n",
       "      <td>0.378</td>\n",
       "      <td>0.013300</td>\n",
       "    </tr>\n",
       "    <tr>\n",
       "      <td>459</td>\n",
       "      <td>-9.430</td>\n",
       "      <td>0.2850</td>\n",
       "      <td>0.418</td>\n",
       "      <td>0.000002</td>\n",
       "    </tr>\n",
       "    <tr>\n",
       "      <td>276</td>\n",
       "      <td>-5.355</td>\n",
       "      <td>0.7130</td>\n",
       "      <td>0.645</td>\n",
       "      <td>0.000000</td>\n",
       "    </tr>\n",
       "    <tr>\n",
       "      <td>226</td>\n",
       "      <td>-22.730</td>\n",
       "      <td>0.1500</td>\n",
       "      <td>0.213</td>\n",
       "      <td>0.938000</td>\n",
       "    </tr>\n",
       "    <tr>\n",
       "      <td>301</td>\n",
       "      <td>-9.239</td>\n",
       "      <td>0.3260</td>\n",
       "      <td>0.399</td>\n",
       "      <td>0.000000</td>\n",
       "    </tr>\n",
       "    <tr>\n",
       "      <td>...</td>\n",
       "      <td>...</td>\n",
       "      <td>...</td>\n",
       "      <td>...</td>\n",
       "      <td>...</td>\n",
       "    </tr>\n",
       "    <tr>\n",
       "      <td>931</td>\n",
       "      <td>-3.201</td>\n",
       "      <td>0.7060</td>\n",
       "      <td>0.627</td>\n",
       "      <td>0.000000</td>\n",
       "    </tr>\n",
       "    <tr>\n",
       "      <td>264</td>\n",
       "      <td>-9.484</td>\n",
       "      <td>0.5080</td>\n",
       "      <td>0.579</td>\n",
       "      <td>0.000494</td>\n",
       "    </tr>\n",
       "    <tr>\n",
       "      <td>653</td>\n",
       "      <td>-9.144</td>\n",
       "      <td>0.3910</td>\n",
       "      <td>0.872</td>\n",
       "      <td>0.000004</td>\n",
       "    </tr>\n",
       "    <tr>\n",
       "      <td>607</td>\n",
       "      <td>-13.600</td>\n",
       "      <td>0.1460</td>\n",
       "      <td>0.471</td>\n",
       "      <td>0.000000</td>\n",
       "    </tr>\n",
       "    <tr>\n",
       "      <td>732</td>\n",
       "      <td>-27.331</td>\n",
       "      <td>0.0527</td>\n",
       "      <td>0.488</td>\n",
       "      <td>0.911000</td>\n",
       "    </tr>\n",
       "  </tbody>\n",
       "</table>\n",
       "<p>4900 rows × 4 columns</p>\n",
       "</div>"
      ],
      "text/plain": [
       "     loudness  energy  danceability  instrumentalness\n",
       "590   -40.685  0.0137         0.378          0.013300\n",
       "459    -9.430  0.2850         0.418          0.000002\n",
       "276    -5.355  0.7130         0.645          0.000000\n",
       "226   -22.730  0.1500         0.213          0.938000\n",
       "301    -9.239  0.3260         0.399          0.000000\n",
       "..        ...     ...           ...               ...\n",
       "931    -3.201  0.7060         0.627          0.000000\n",
       "264    -9.484  0.5080         0.579          0.000494\n",
       "653    -9.144  0.3910         0.872          0.000004\n",
       "607   -13.600  0.1460         0.471          0.000000\n",
       "732   -27.331  0.0527         0.488          0.911000\n",
       "\n",
       "[4900 rows x 4 columns]"
      ]
     },
     "execution_count": 29,
     "metadata": {},
     "output_type": "execute_result"
    }
   ],
   "source": [
    "X_train"
   ]
  },
  {
   "cell_type": "code",
   "execution_count": 12,
   "metadata": {},
   "outputs": [],
   "source": [
    "# Scale the data using MinMaxScaler\n",
    "from sklearn.preprocessing import MinMaxScaler\n",
    "\n",
    "# Create a MinMaxScaler model and fit it to the training data\n",
    "X_scaler = MinMaxScaler().fit(X_train)\n",
    "\n",
    "# Transform the training and testing data using the X_scaler\n",
    "X_train_scaled = X_scaler.transform(X_train)\n",
    "X_test_scaled = X_scaler.transform(X_test)"
   ]
  },
  {
   "cell_type": "code",
   "execution_count": 28,
   "metadata": {},
   "outputs": [
    {
     "data": {
      "text/plain": [
       "array([[2.01566590e-01, 1.10718161e-02, 3.39801494e-01, 1.33400201e-02],\n",
       "       [8.35812415e-01, 2.83647470e-01, 3.84409502e-01, 1.53460381e-06],\n",
       "       [9.18504840e-01, 7.13659928e-01, 6.37559942e-01, 0.00000000e+00],\n",
       "       ...,\n",
       "       [8.41616104e-01, 3.90145883e-01, 8.90710383e-01, 4.14242728e-06],\n",
       "       [7.51192191e-01, 1.43993891e-01, 4.43515111e-01, 0.00000000e+00],\n",
       "       [4.72554232e-01, 5.02551943e-02, 4.62473514e-01, 9.13741224e-01]])"
      ]
     },
     "execution_count": 28,
     "metadata": {},
     "output_type": "execute_result"
    }
   ],
   "source": [
    "X_train_scaled"
   ]
  },
  {
   "cell_type": "markdown",
   "metadata": {},
   "source": [
    "## 4. Training The Models"
   ]
  },
  {
   "cell_type": "markdown",
   "metadata": {
    "colab_type": "text",
    "id": "5kbfvDvwnB_D"
   },
   "source": [
    "### Logistic Regression"
   ]
  },
  {
   "cell_type": "code",
   "execution_count": 13,
   "metadata": {
    "colab": {
     "base_uri": "https://localhost:8080/",
     "height": 341
    },
    "colab_type": "code",
    "executionInfo": {
     "elapsed": 621,
     "status": "error",
     "timestamp": 1588443597755,
     "user": {
      "displayName": "Kyaw Lynn",
      "photoUrl": "",
      "userId": "00058917132249787348"
     },
     "user_tz": 420
    },
    "id": "CWhspwvRmlB5",
    "outputId": "7813da79-883b-427c-d2e6-0bbce608474b"
   },
   "outputs": [
    {
     "name": "stdout",
     "output_type": "stream",
     "text": [
      "Accuracy of logistic regression on training 0.5828571428571429\n",
      "Accuracy of logistic regression on testing 0.580952380952381\n"
     ]
    }
   ],
   "source": [
    "# Logistic Regression\n",
    "from sklearn.linear_model import LogisticRegression\n",
    "logreg = LogisticRegression()\n",
    "logreg.fit(X_train_scaled, y_train)\n",
    "\n",
    "print('Accuracy of logistic regression on training', logreg.score(X_train_scaled, y_train))\n",
    "print('Accuracy of logistic regression on testing', logreg.score(X_test_scaled, y_test))"
   ]
  },
  {
   "cell_type": "markdown",
   "metadata": {},
   "source": [
    "### Decision Tree"
   ]
  },
  {
   "cell_type": "code",
   "execution_count": 14,
   "metadata": {},
   "outputs": [
    {
     "name": "stdout",
     "output_type": "stream",
     "text": [
      "Accuracy of Decision tree on training 0.986938775510204\n",
      "Accuracy of Decision tree on testing 0.9795238095238096\n"
     ]
    }
   ],
   "source": [
    "# Decision Tree\n",
    "from sklearn.tree import DecisionTreeClassifier\n",
    "tree = DecisionTreeClassifier()\n",
    "tree.fit(X_train_scaled, y_train)\n",
    "\n",
    "print('Accuracy of Decision tree on training', tree.score(X_train_scaled, y_train))\n",
    "print('Accuracy of Decision tree on testing', tree.score(X_test_scaled, y_test))"
   ]
  },
  {
   "cell_type": "code",
   "execution_count": 15,
   "metadata": {},
   "outputs": [
    {
     "name": "stdout",
     "output_type": "stream",
     "text": [
      "Accuracy of Decision tree on training 0.8479591836734693\n",
      "Accuracy of Decision tree on testing 0.8438095238095238\n"
     ]
    }
   ],
   "source": [
    "# Decision Tree\n",
    "from sklearn.tree import DecisionTreeClassifier\n",
    "tree_2 = DecisionTreeClassifier(max_depth=8)\n",
    "tree_2.fit(X_train_scaled, y_train)\n",
    "\n",
    "print('Accuracy of Decision tree on training', tree_2.score(X_train_scaled, y_train))\n",
    "print('Accuracy of Decision tree on testing', tree_2.score(X_test_scaled, y_test))"
   ]
  },
  {
   "cell_type": "markdown",
   "metadata": {},
   "source": [
    "### Random Forest"
   ]
  },
  {
   "cell_type": "code",
   "execution_count": 16,
   "metadata": {},
   "outputs": [
    {
     "name": "stdout",
     "output_type": "stream",
     "text": [
      "Accuracy of Random Forest on training 0.986938775510204\n",
      "Accuracy of Random Forest on testing 0.979047619047619\n"
     ]
    }
   ],
   "source": [
    "# Random Forest\n",
    "from sklearn.ensemble import RandomForestClassifier\n",
    "rf = RandomForestClassifier(n_estimators=200)\n",
    "rf = rf.fit(X_train_scaled, y_train)\n",
    "\n",
    "print('Accuracy of Random Forest on training', rf.score(X_train_scaled, y_train))\n",
    "print('Accuracy of Random Forest on testing', rf.score(X_test_scaled, y_test))"
   ]
  },
  {
   "cell_type": "code",
   "execution_count": 17,
   "metadata": {},
   "outputs": [
    {
     "data": {
      "text/plain": [
       "[(0.28928514020689017, 'loudness'),\n",
       " (0.26905411839112275, 'energy'),\n",
       " (0.22971567620704442, 'instrumentalness'),\n",
       " (0.2119450651949426, 'danceability')]"
      ]
     },
     "execution_count": 17,
     "metadata": {},
     "output_type": "execute_result"
    }
   ],
   "source": [
    "feature_names = X.columns\n",
    "sorted(zip(rf.feature_importances_, feature_names), reverse=True)"
   ]
  },
  {
   "cell_type": "markdown",
   "metadata": {},
   "source": [
    "### Features Definitions:\n",
    "\n",
    "- Danceability - The higher the value, the easier it is to dance to this song. Danceability describes how suitable a track is for dancing based on a combination of muical elements including tempo, rhythm stability, beat strength, and overall regurality.\n",
    "- Energy - the higher the value, the more energtic the song is. Energy represents a perceptual measure of intensity and activity. Typically, energetic tracks feel fast, loud, and noisy.\n",
    "- Acousticness - The higher the value the more acoustic the song is.\n",
    "- Instrumentalness - The higher the value the greater likelihood the track contains no vocal content. Instrumentalness predicts whether a track contains no vocals.\n",
    "- Valence - The higher the value, the more positive mood for the song. Tracks with high valence sound more positive (e.g. happy, cheerful, euphoric), while tracks with low valence sound more negative (e.g. sad, depressed, angry).\n",
    "- Speechiness - The higher the value the more spoken word the song contains.\n",
    "- Loudness (dB) - The higher the value, the louder the song. Loudness values are averaged across the entire track and are useful for comparing relative loudness of tracks. Values typical range between -60 and 0 dB.\n",
    "- Tempo (BPM) - The tempo of the song (beats per minute).\n",
    "- Popularity - The higher the value the more popular the song is."
   ]
  },
  {
   "cell_type": "markdown",
   "metadata": {},
   "source": [
    "### KNN"
   ]
  },
  {
   "cell_type": "code",
   "execution_count": 18,
   "metadata": {},
   "outputs": [
    {
     "name": "stdout",
     "output_type": "stream",
     "text": [
      "Accuracy of KNN on training 0.9812244897959184\n",
      "Accuracy of KNN on testing 0.97\n"
     ]
    }
   ],
   "source": [
    "# K-nearest neighbor \n",
    "from sklearn.neighbors import KNeighborsClassifier\n",
    "knn = KNeighborsClassifier()\n",
    "knn.fit(X_train_scaled, y_train)\n",
    "\n",
    "print('Accuracy of KNN on training', knn.score(X_train_scaled, y_train))\n",
    "print('Accuracy of KNN on testing', knn.score(X_test_scaled, y_test))"
   ]
  },
  {
   "cell_type": "markdown",
   "metadata": {},
   "source": [
    "### Linear Discriminant Analysis"
   ]
  },
  {
   "cell_type": "code",
   "execution_count": 19,
   "metadata": {},
   "outputs": [
    {
     "name": "stdout",
     "output_type": "stream",
     "text": [
      "Accuracy of Linear Discriminant Analysis on training 0.6018367346938776\n",
      "Accuracy of Linear Discriminant Analysis on testing 0.6104761904761905\n"
     ]
    }
   ],
   "source": [
    "# Linear Discriminant Analysis \n",
    "from sklearn.discriminant_analysis import LinearDiscriminantAnalysis\n",
    "lda = LinearDiscriminantAnalysis()\n",
    "lda.fit(X_train_scaled, y_train)\n",
    "\n",
    "print('Accuracy of Linear Discriminant Analysis on training', lda.score(X_train_scaled, y_train))\n",
    "print('Accuracy of Linear Discriminant Analysis on testing', lda.score(X_test_scaled, y_test))"
   ]
  },
  {
   "cell_type": "markdown",
   "metadata": {},
   "source": [
    "### Gaussian Naive Bayes "
   ]
  },
  {
   "cell_type": "code",
   "execution_count": 20,
   "metadata": {},
   "outputs": [
    {
     "name": "stdout",
     "output_type": "stream",
     "text": [
      "Accuracy of GNB on training 0.5659183673469388\n",
      "Accuracy of GNB on testing 0.5852380952380952\n"
     ]
    }
   ],
   "source": [
    "# Gaussian Naive Bayes \n",
    "from sklearn.naive_bayes import GaussianNB\n",
    "gnb = GaussianNB()\n",
    "gnb.fit(X_train_scaled, y_train)\n",
    "\n",
    "print('Accuracy of GNB on training', gnb.score(X_train_scaled, y_train))\n",
    "print('Accuracy of GNB on testing', gnb.score(X_test_scaled, y_test))"
   ]
  },
  {
   "cell_type": "markdown",
   "metadata": {},
   "source": [
    "### Support Vector Machine"
   ]
  },
  {
   "cell_type": "code",
   "execution_count": 21,
   "metadata": {},
   "outputs": [
    {
     "name": "stdout",
     "output_type": "stream",
     "text": [
      "Accuracy of SVM on training 0.626734693877551\n",
      "Accuracy of SVM on testing 0.64\n"
     ]
    }
   ],
   "source": [
    "# Support Vector Machine\n",
    "from sklearn.svm import SVC\n",
    "svm = SVC()\n",
    "svm.fit(X_train_scaled, y_train)\n",
    "\n",
    "print('Accuracy of SVM on training', svm.score(X_train_scaled, y_train))\n",
    "print('Accuracy of SVM on testing', svm.score(X_test_scaled, y_test))"
   ]
  },
  {
   "cell_type": "markdown",
   "metadata": {},
   "source": [
    "## 5. Save The Best Model "
   ]
  },
  {
   "cell_type": "code",
   "execution_count": 22,
   "metadata": {},
   "outputs": [
    {
     "data": {
      "text/plain": [
       "['spotify_ML_model_4features.pkl']"
      ]
     },
     "execution_count": 22,
     "metadata": {},
     "output_type": "execute_result"
    }
   ],
   "source": [
    "# Save and export the best model with highest accuracy to pickle file\n",
    "filename = 'spotify_ML_model_4features.pkl'\n",
    "joblib.dump(knn, filename)"
   ]
  },
  {
   "cell_type": "markdown",
   "metadata": {},
   "source": [
    "## 6. Load The Model"
   ]
  },
  {
   "cell_type": "code",
   "execution_count": 23,
   "metadata": {},
   "outputs": [],
   "source": [
    "model = open('spotify_ML_model_4features.pkl','rb')\n",
    "spotify_model = joblib.load(model)"
   ]
  },
  {
   "cell_type": "markdown",
   "metadata": {},
   "source": []
  },
  {
   "cell_type": "markdown",
   "metadata": {},
   "source": [
    "## 7. Testing the Model and Get Prediction"
   ]
  },
  {
   "cell_type": "code",
   "execution_count": 36,
   "metadata": {},
   "outputs": [
    {
     "data": {
      "text/plain": [
       "array([5])"
      ]
     },
     "execution_count": 36,
     "metadata": {},
     "output_type": "execute_result"
    }
   ],
   "source": [
    "# Test using dummy input\n",
    "score_list = [-5, 0.6, 0.6, 0.01]\n",
    "\n",
    "# Need to scale and transform the input using X_scaler which the scaler we used while training the data\n",
    "score_list_scaled = X_scaler.transform([score_list])\n",
    "# score_list_scaled\n",
    "\n",
    "# Predict using model (KNN), output will be genre label\n",
    "prediction_genre_label = knn.predict(score_list_scaled)\n",
    "prediction_genre_label"
   ]
  },
  {
   "cell_type": "code",
   "execution_count": 37,
   "metadata": {},
   "outputs": [
    {
     "data": {
      "text/plain": [
       "5"
      ]
     },
     "execution_count": 37,
     "metadata": {},
     "output_type": "execute_result"
    }
   ],
   "source": [
    "prediction_genre_label[0]"
   ]
  },
  {
   "cell_type": "code",
   "execution_count": 40,
   "metadata": {},
   "outputs": [
    {
     "data": {
      "text/html": [
       "<div>\n",
       "<style scoped>\n",
       "    .dataframe tbody tr th:only-of-type {\n",
       "        vertical-align: middle;\n",
       "    }\n",
       "\n",
       "    .dataframe tbody tr th {\n",
       "        vertical-align: top;\n",
       "    }\n",
       "\n",
       "    .dataframe thead th {\n",
       "        text-align: right;\n",
       "    }\n",
       "</style>\n",
       "<table border=\"1\" class=\"dataframe\">\n",
       "  <thead>\n",
       "    <tr style=\"text-align: right;\">\n",
       "      <th></th>\n",
       "      <th>artist_name</th>\n",
       "      <th>track_name</th>\n",
       "      <th>popularity</th>\n",
       "      <th>track_id</th>\n",
       "      <th>track_uri</th>\n",
       "      <th>danceability</th>\n",
       "      <th>energy</th>\n",
       "      <th>loudness</th>\n",
       "      <th>speechiness</th>\n",
       "      <th>acousticness</th>\n",
       "      <th>instrumentalness</th>\n",
       "      <th>liveness</th>\n",
       "      <th>valence</th>\n",
       "      <th>tempo</th>\n",
       "      <th>duration</th>\n",
       "      <th>genre</th>\n",
       "      <th>genre_label</th>\n",
       "    </tr>\n",
       "  </thead>\n",
       "  <tbody>\n",
       "    <tr>\n",
       "      <td>0</td>\n",
       "      <td>The Weeknd</td>\n",
       "      <td>Blinding Lights</td>\n",
       "      <td>100</td>\n",
       "      <td>0VjIjW4GlUZAMYd2vXMi3b</td>\n",
       "      <td>spotify:track:0VjIjW4GlUZAMYd2vXMi3b</td>\n",
       "      <td>0.514</td>\n",
       "      <td>0.730</td>\n",
       "      <td>-5.934</td>\n",
       "      <td>0.0598</td>\n",
       "      <td>0.00146</td>\n",
       "      <td>0.000095</td>\n",
       "      <td>0.0897</td>\n",
       "      <td>0.334</td>\n",
       "      <td>171.005</td>\n",
       "      <td>200040</td>\n",
       "      <td>pop</td>\n",
       "      <td>5</td>\n",
       "    </tr>\n",
       "    <tr>\n",
       "      <td>1</td>\n",
       "      <td>Dua Lipa</td>\n",
       "      <td>Don't Start Now</td>\n",
       "      <td>97</td>\n",
       "      <td>6WrI0LAC5M1Rw2MnX2ZvEg</td>\n",
       "      <td>spotify:track:6WrI0LAC5M1Rw2MnX2ZvEg</td>\n",
       "      <td>0.794</td>\n",
       "      <td>0.793</td>\n",
       "      <td>-4.521</td>\n",
       "      <td>0.0842</td>\n",
       "      <td>0.01250</td>\n",
       "      <td>0.000000</td>\n",
       "      <td>0.0952</td>\n",
       "      <td>0.677</td>\n",
       "      <td>123.941</td>\n",
       "      <td>183290</td>\n",
       "      <td>pop</td>\n",
       "      <td>5</td>\n",
       "    </tr>\n",
       "    <tr>\n",
       "      <td>2</td>\n",
       "      <td>Doja Cat</td>\n",
       "      <td>Say So</td>\n",
       "      <td>97</td>\n",
       "      <td>3Dv1eDb0MEgF93GpLXlucZ</td>\n",
       "      <td>spotify:track:3Dv1eDb0MEgF93GpLXlucZ</td>\n",
       "      <td>0.787</td>\n",
       "      <td>0.673</td>\n",
       "      <td>-4.577</td>\n",
       "      <td>0.1580</td>\n",
       "      <td>0.25600</td>\n",
       "      <td>0.000004</td>\n",
       "      <td>0.0904</td>\n",
       "      <td>0.786</td>\n",
       "      <td>110.962</td>\n",
       "      <td>237893</td>\n",
       "      <td>pop</td>\n",
       "      <td>5</td>\n",
       "    </tr>\n",
       "    <tr>\n",
       "      <td>3</td>\n",
       "      <td>Arizona Zervas</td>\n",
       "      <td>ROXANNE</td>\n",
       "      <td>95</td>\n",
       "      <td>696DnlkuDOXcMAnKlTgXXK</td>\n",
       "      <td>spotify:track:696DnlkuDOXcMAnKlTgXXK</td>\n",
       "      <td>0.621</td>\n",
       "      <td>0.601</td>\n",
       "      <td>-5.616</td>\n",
       "      <td>0.1480</td>\n",
       "      <td>0.05220</td>\n",
       "      <td>0.000000</td>\n",
       "      <td>0.4600</td>\n",
       "      <td>0.457</td>\n",
       "      <td>116.735</td>\n",
       "      <td>163636</td>\n",
       "      <td>pop</td>\n",
       "      <td>5</td>\n",
       "    </tr>\n",
       "    <tr>\n",
       "      <td>4</td>\n",
       "      <td>BENEE</td>\n",
       "      <td>Supalonely</td>\n",
       "      <td>95</td>\n",
       "      <td>4nK5YrxbMGZstTLbvj6Gxw</td>\n",
       "      <td>spotify:track:4nK5YrxbMGZstTLbvj6Gxw</td>\n",
       "      <td>0.863</td>\n",
       "      <td>0.631</td>\n",
       "      <td>-4.689</td>\n",
       "      <td>0.0534</td>\n",
       "      <td>0.30500</td>\n",
       "      <td>0.000030</td>\n",
       "      <td>0.1230</td>\n",
       "      <td>0.817</td>\n",
       "      <td>128.977</td>\n",
       "      <td>223480</td>\n",
       "      <td>pop</td>\n",
       "      <td>5</td>\n",
       "    </tr>\n",
       "    <tr>\n",
       "      <td>...</td>\n",
       "      <td>...</td>\n",
       "      <td>...</td>\n",
       "      <td>...</td>\n",
       "      <td>...</td>\n",
       "      <td>...</td>\n",
       "      <td>...</td>\n",
       "      <td>...</td>\n",
       "      <td>...</td>\n",
       "      <td>...</td>\n",
       "      <td>...</td>\n",
       "      <td>...</td>\n",
       "      <td>...</td>\n",
       "      <td>...</td>\n",
       "      <td>...</td>\n",
       "      <td>...</td>\n",
       "      <td>...</td>\n",
       "      <td>...</td>\n",
       "    </tr>\n",
       "    <tr>\n",
       "      <td>995</td>\n",
       "      <td>Taylor Swift</td>\n",
       "      <td>You Need To Calm Down</td>\n",
       "      <td>84</td>\n",
       "      <td>6RRNNciQGZEXnqk8SQ9yv5</td>\n",
       "      <td>spotify:track:6RRNNciQGZEXnqk8SQ9yv5</td>\n",
       "      <td>0.771</td>\n",
       "      <td>0.671</td>\n",
       "      <td>-5.617</td>\n",
       "      <td>0.0553</td>\n",
       "      <td>0.00929</td>\n",
       "      <td>0.000000</td>\n",
       "      <td>0.0637</td>\n",
       "      <td>0.714</td>\n",
       "      <td>85.026</td>\n",
       "      <td>171360</td>\n",
       "      <td>pop</td>\n",
       "      <td>5</td>\n",
       "    </tr>\n",
       "    <tr>\n",
       "      <td>996</td>\n",
       "      <td>Bazzi</td>\n",
       "      <td>Paradise</td>\n",
       "      <td>82</td>\n",
       "      <td>0Rx0DJI556Ix5gBny6EWmn</td>\n",
       "      <td>spotify:track:0Rx0DJI556Ix5gBny6EWmn</td>\n",
       "      <td>0.844</td>\n",
       "      <td>0.644</td>\n",
       "      <td>-6.273</td>\n",
       "      <td>0.0479</td>\n",
       "      <td>0.08280</td>\n",
       "      <td>0.000000</td>\n",
       "      <td>0.1130</td>\n",
       "      <td>0.591</td>\n",
       "      <td>122.061</td>\n",
       "      <td>169038</td>\n",
       "      <td>pop</td>\n",
       "      <td>5</td>\n",
       "    </tr>\n",
       "    <tr>\n",
       "      <td>997</td>\n",
       "      <td>A Boogie Wit da Hoodie</td>\n",
       "      <td>Numbers (feat. Roddy Ricch, Gunna and London O...</td>\n",
       "      <td>84</td>\n",
       "      <td>733c1CWmIGymoQXdp7Us88</td>\n",
       "      <td>spotify:track:733c1CWmIGymoQXdp7Us88</td>\n",
       "      <td>0.819</td>\n",
       "      <td>0.654</td>\n",
       "      <td>-6.665</td>\n",
       "      <td>0.1360</td>\n",
       "      <td>0.51700</td>\n",
       "      <td>0.000000</td>\n",
       "      <td>0.0996</td>\n",
       "      <td>0.455</td>\n",
       "      <td>133.503</td>\n",
       "      <td>188563</td>\n",
       "      <td>pop</td>\n",
       "      <td>5</td>\n",
       "    </tr>\n",
       "    <tr>\n",
       "      <td>998</td>\n",
       "      <td>Social House</td>\n",
       "      <td>Magic In The Hamptons (feat. Lil Yachty)</td>\n",
       "      <td>80</td>\n",
       "      <td>2Yer0p7uB2lVBUAtANuuQp</td>\n",
       "      <td>spotify:track:2Yer0p7uB2lVBUAtANuuQp</td>\n",
       "      <td>0.769</td>\n",
       "      <td>0.479</td>\n",
       "      <td>-5.339</td>\n",
       "      <td>0.0385</td>\n",
       "      <td>0.66000</td>\n",
       "      <td>0.000000</td>\n",
       "      <td>0.0914</td>\n",
       "      <td>0.803</td>\n",
       "      <td>96.051</td>\n",
       "      <td>164640</td>\n",
       "      <td>pop</td>\n",
       "      <td>5</td>\n",
       "    </tr>\n",
       "    <tr>\n",
       "      <td>999</td>\n",
       "      <td>Dua Lipa</td>\n",
       "      <td>Break My Heart</td>\n",
       "      <td>91</td>\n",
       "      <td>017PF4Q3l4DBUiWoXk4OWT</td>\n",
       "      <td>spotify:track:017PF4Q3l4DBUiWoXk4OWT</td>\n",
       "      <td>0.730</td>\n",
       "      <td>0.729</td>\n",
       "      <td>-3.434</td>\n",
       "      <td>0.0886</td>\n",
       "      <td>0.16700</td>\n",
       "      <td>0.000001</td>\n",
       "      <td>0.3490</td>\n",
       "      <td>0.467</td>\n",
       "      <td>113.012</td>\n",
       "      <td>221820</td>\n",
       "      <td>pop</td>\n",
       "      <td>5</td>\n",
       "    </tr>\n",
       "  </tbody>\n",
       "</table>\n",
       "<p>985 rows × 17 columns</p>\n",
       "</div>"
      ],
      "text/plain": [
       "                artist_name  \\\n",
       "0                The Weeknd   \n",
       "1                  Dua Lipa   \n",
       "2                  Doja Cat   \n",
       "3            Arizona Zervas   \n",
       "4                     BENEE   \n",
       "..                      ...   \n",
       "995            Taylor Swift   \n",
       "996                   Bazzi   \n",
       "997  A Boogie Wit da Hoodie   \n",
       "998            Social House   \n",
       "999                Dua Lipa   \n",
       "\n",
       "                                            track_name  popularity  \\\n",
       "0                                      Blinding Lights         100   \n",
       "1                                      Don't Start Now          97   \n",
       "2                                               Say So          97   \n",
       "3                                              ROXANNE          95   \n",
       "4                                           Supalonely          95   \n",
       "..                                                 ...         ...   \n",
       "995                              You Need To Calm Down          84   \n",
       "996                                           Paradise          82   \n",
       "997  Numbers (feat. Roddy Ricch, Gunna and London O...          84   \n",
       "998           Magic In The Hamptons (feat. Lil Yachty)          80   \n",
       "999                                     Break My Heart          91   \n",
       "\n",
       "                   track_id                             track_uri  \\\n",
       "0    0VjIjW4GlUZAMYd2vXMi3b  spotify:track:0VjIjW4GlUZAMYd2vXMi3b   \n",
       "1    6WrI0LAC5M1Rw2MnX2ZvEg  spotify:track:6WrI0LAC5M1Rw2MnX2ZvEg   \n",
       "2    3Dv1eDb0MEgF93GpLXlucZ  spotify:track:3Dv1eDb0MEgF93GpLXlucZ   \n",
       "3    696DnlkuDOXcMAnKlTgXXK  spotify:track:696DnlkuDOXcMAnKlTgXXK   \n",
       "4    4nK5YrxbMGZstTLbvj6Gxw  spotify:track:4nK5YrxbMGZstTLbvj6Gxw   \n",
       "..                      ...                                   ...   \n",
       "995  6RRNNciQGZEXnqk8SQ9yv5  spotify:track:6RRNNciQGZEXnqk8SQ9yv5   \n",
       "996  0Rx0DJI556Ix5gBny6EWmn  spotify:track:0Rx0DJI556Ix5gBny6EWmn   \n",
       "997  733c1CWmIGymoQXdp7Us88  spotify:track:733c1CWmIGymoQXdp7Us88   \n",
       "998  2Yer0p7uB2lVBUAtANuuQp  spotify:track:2Yer0p7uB2lVBUAtANuuQp   \n",
       "999  017PF4Q3l4DBUiWoXk4OWT  spotify:track:017PF4Q3l4DBUiWoXk4OWT   \n",
       "\n",
       "     danceability  energy  loudness  speechiness  acousticness  \\\n",
       "0           0.514   0.730    -5.934       0.0598       0.00146   \n",
       "1           0.794   0.793    -4.521       0.0842       0.01250   \n",
       "2           0.787   0.673    -4.577       0.1580       0.25600   \n",
       "3           0.621   0.601    -5.616       0.1480       0.05220   \n",
       "4           0.863   0.631    -4.689       0.0534       0.30500   \n",
       "..            ...     ...       ...          ...           ...   \n",
       "995         0.771   0.671    -5.617       0.0553       0.00929   \n",
       "996         0.844   0.644    -6.273       0.0479       0.08280   \n",
       "997         0.819   0.654    -6.665       0.1360       0.51700   \n",
       "998         0.769   0.479    -5.339       0.0385       0.66000   \n",
       "999         0.730   0.729    -3.434       0.0886       0.16700   \n",
       "\n",
       "     instrumentalness  liveness  valence    tempo  duration genre  genre_label  \n",
       "0            0.000095    0.0897    0.334  171.005    200040   pop            5  \n",
       "1            0.000000    0.0952    0.677  123.941    183290   pop            5  \n",
       "2            0.000004    0.0904    0.786  110.962    237893   pop            5  \n",
       "3            0.000000    0.4600    0.457  116.735    163636   pop            5  \n",
       "4            0.000030    0.1230    0.817  128.977    223480   pop            5  \n",
       "..                ...       ...      ...      ...       ...   ...          ...  \n",
       "995          0.000000    0.0637    0.714   85.026    171360   pop            5  \n",
       "996          0.000000    0.1130    0.591  122.061    169038   pop            5  \n",
       "997          0.000000    0.0996    0.455  133.503    188563   pop            5  \n",
       "998          0.000000    0.0914    0.803   96.051    164640   pop            5  \n",
       "999          0.000001    0.3490    0.467  113.012    221820   pop            5  \n",
       "\n",
       "[985 rows x 17 columns]"
      ]
     },
     "execution_count": 40,
     "metadata": {},
     "output_type": "execute_result"
    }
   ],
   "source": [
    "spotify_df_filtered = spotify_df[(spotify_df[\"genre_label\"] == prediction_genre_label[0]) & (spotify_df[\"popularity\"] > 50)]\n",
    "spotify_df_filtered"
   ]
  },
  {
   "cell_type": "code",
   "execution_count": 58,
   "metadata": {},
   "outputs": [
    {
     "data": {
      "text/html": [
       "<div>\n",
       "<style scoped>\n",
       "    .dataframe tbody tr th:only-of-type {\n",
       "        vertical-align: middle;\n",
       "    }\n",
       "\n",
       "    .dataframe tbody tr th {\n",
       "        vertical-align: top;\n",
       "    }\n",
       "\n",
       "    .dataframe thead th {\n",
       "        text-align: right;\n",
       "    }\n",
       "</style>\n",
       "<table border=\"1\" class=\"dataframe\">\n",
       "  <thead>\n",
       "    <tr style=\"text-align: right;\">\n",
       "      <th></th>\n",
       "      <th>artist_name</th>\n",
       "      <th>track_name</th>\n",
       "      <th>popularity</th>\n",
       "      <th>track_id</th>\n",
       "      <th>track_uri</th>\n",
       "      <th>danceability</th>\n",
       "      <th>energy</th>\n",
       "      <th>loudness</th>\n",
       "      <th>speechiness</th>\n",
       "      <th>acousticness</th>\n",
       "      <th>instrumentalness</th>\n",
       "      <th>liveness</th>\n",
       "      <th>valence</th>\n",
       "      <th>tempo</th>\n",
       "      <th>duration</th>\n",
       "      <th>genre</th>\n",
       "      <th>genre_label</th>\n",
       "    </tr>\n",
       "  </thead>\n",
       "  <tbody>\n",
       "    <tr>\n",
       "      <td>379</td>\n",
       "      <td>Ellie Goulding</td>\n",
       "      <td>Hate Me (with Juice WRLD)</td>\n",
       "      <td>86</td>\n",
       "      <td>6kls8cSlUyHW2BUOkDJIZE</td>\n",
       "      <td>spotify:track:6kls8cSlUyHW2BUOkDJIZE</td>\n",
       "      <td>0.657</td>\n",
       "      <td>0.768</td>\n",
       "      <td>-4.628</td>\n",
       "      <td>0.0507</td>\n",
       "      <td>0.108</td>\n",
       "      <td>0.0</td>\n",
       "      <td>0.144</td>\n",
       "      <td>0.759</td>\n",
       "      <td>75.025</td>\n",
       "      <td>186223</td>\n",
       "      <td>pop</td>\n",
       "      <td>5</td>\n",
       "    </tr>\n",
       "  </tbody>\n",
       "</table>\n",
       "</div>"
      ],
      "text/plain": [
       "        artist_name                 track_name  popularity  \\\n",
       "379  Ellie Goulding  Hate Me (with Juice WRLD)          86   \n",
       "\n",
       "                   track_id                             track_uri  \\\n",
       "379  6kls8cSlUyHW2BUOkDJIZE  spotify:track:6kls8cSlUyHW2BUOkDJIZE   \n",
       "\n",
       "     danceability  energy  loudness  speechiness  acousticness  \\\n",
       "379         0.657   0.768    -4.628       0.0507         0.108   \n",
       "\n",
       "     instrumentalness  liveness  valence   tempo  duration genre  genre_label  \n",
       "379               0.0     0.144    0.759  75.025    186223   pop            5  "
      ]
     },
     "execution_count": 58,
     "metadata": {},
     "output_type": "execute_result"
    }
   ],
   "source": [
    "prediction_result_df = spotify_df_filtered.sample() \n",
    "prediction_result_df"
   ]
  },
  {
   "cell_type": "code",
   "execution_count": 68,
   "metadata": {},
   "outputs": [
    {
     "data": {
      "text/plain": [
       "'6kls8cSlUyHW2BUOkDJIZE'"
      ]
     },
     "execution_count": 68,
     "metadata": {},
     "output_type": "execute_result"
    }
   ],
   "source": [
    "prediction_result_df['track_id'].values[0]"
   ]
  },
  {
   "cell_type": "code",
   "execution_count": 69,
   "metadata": {},
   "outputs": [
    {
     "name": "stdout",
     "output_type": "stream",
     "text": [
      "Genre: pop\n",
      "Artist: Ellie Goulding\n",
      "Song: Hate Me (with Juice WRLD)\n",
      "Spotify URL: https://open.spotify.com/track/6kls8cSlUyHW2BUOkDJIZE\n"
     ]
    }
   ],
   "source": [
    "genre_result = prediction_result_df[\"genre\"].values[0]\n",
    "artist_result = prediction_result_df[\"artist_name\"].values[0]\n",
    "track_result = prediction_result_df[\"track_name\"].values[0]\n",
    "track_id_result = f\"https://open.spotify.com/track/{prediction_result_df['track_id'].values[0]}\"\n",
    "\n",
    "print(f\"Genre: {genre_result}\")\n",
    "print(f\"Artist: {artist_result}\")\n",
    "print(f\"Song: {track_result}\")\n",
    "print(f\"Spotify URL: {track_id_result}\")"
   ]
  },
  {
   "cell_type": "code",
   "execution_count": 56,
   "metadata": {},
   "outputs": [],
   "source": [
    "artist_result_list = list(prediction_result_df[\"artist_name\"])\n",
    "track_result_list = list(prediction_result_df[\"track_name\"])\n",
    "track_uri_result_list = list(prediction_result_df[\"track_uri\"])"
   ]
  },
  {
   "cell_type": "code",
   "execution_count": 48,
   "metadata": {},
   "outputs": [
    {
     "data": {
      "text/plain": [
       "pandas.core.series.Series"
      ]
     },
     "execution_count": 48,
     "metadata": {},
     "output_type": "execute_result"
    }
   ],
   "source": [
    "type(artist_result_list)"
   ]
  },
  {
   "cell_type": "code",
   "execution_count": 57,
   "metadata": {},
   "outputs": [
    {
     "data": {
      "text/plain": [
       "'Justin Bieber'"
      ]
     },
     "execution_count": 57,
     "metadata": {},
     "output_type": "execute_result"
    }
   ],
   "source": [
    "artist_result_list[0]"
   ]
  },
  {
   "cell_type": "code",
   "execution_count": null,
   "metadata": {},
   "outputs": [],
   "source": []
  }
 ],
 "metadata": {
  "colab": {
   "collapsed_sections": [],
   "name": "V2 of spotify_ML-model.ipynb",
   "provenance": [
    {
     "file_id": "1bXkpK5kghJs8YaCm8AEVrul-T7zLjfJv",
     "timestamp": 1588444422170
    }
   ],
   "toc_visible": true
  },
  "kernelspec": {
   "display_name": "Python 3",
   "language": "python",
   "name": "python3"
  },
  "language_info": {
   "codemirror_mode": {
    "name": "ipython",
    "version": 3
   },
   "file_extension": ".py",
   "mimetype": "text/x-python",
   "name": "python",
   "nbconvert_exporter": "python",
   "pygments_lexer": "ipython3",
   "version": "3.7.4"
  }
 },
 "nbformat": 4,
 "nbformat_minor": 1
}
